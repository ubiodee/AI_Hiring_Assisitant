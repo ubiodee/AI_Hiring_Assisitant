{
  "nbformat": 4,
  "nbformat_minor": 0,
  "metadata": {
    "colab": {
      "provenance": [],
      "toc_visible": true,
      "authorship_tag": "ABX9TyNAasC/teSrq7D8PfXMvhkT",
      "include_colab_link": true
    },
    "kernelspec": {
      "name": "python3",
      "display_name": "Python 3"
    },
    "language_info": {
      "name": "python"
    }
  },
  "cells": [
    {
      "cell_type": "markdown",
      "metadata": {
        "id": "view-in-github",
        "colab_type": "text"
      },
      "source": [
        "<a href=\"https://colab.research.google.com/github/ubiodee/AI_Hiring_Assisitant/blob/main/Untitled0.ipynb\" target=\"_parent\"><img src=\"https://colab.research.google.com/assets/colab-badge.svg\" alt=\"Open In Colab\"/></a>"
      ]
    },
    {
      "cell_type": "code",
      "source": [
        "import pandas as pd\n",
        "import numpy as np\n",
        "import re\n",
        "import nltk\n",
        "from nltk.tokenize import word_tokenize\n",
        "from nltk.corpus import stopwords\n",
        "from nltk.stem import WordNetLemmatizer"
      ],
      "metadata": {
        "id": "h4OssPtncXzj"
      },
      "execution_count": 24,
      "outputs": []
    },
    {
      "cell_type": "code",
      "source": [
        "job_postings = pd.read_csv('/job_postings.csv')"
      ],
      "metadata": {
        "id": "tNqTKF_JchfY"
      },
      "execution_count": 25,
      "outputs": []
    },
    {
      "cell_type": "code",
      "source": [
        "stop_words = set(stopwords.words('english'))"
      ],
      "metadata": {
        "id": "nrrvwS9Zc5to"
      },
      "execution_count": 26,
      "outputs": []
    },
    {
      "cell_type": "code",
      "source": [
        ">>> import nltk\n",
        ">>> nltk.download(\"stopwords\")\n"
      ],
      "metadata": {
        "colab": {
          "base_uri": "https://localhost:8080/"
        },
        "id": "tNOzAwyfdd8P",
        "outputId": "b52e7afa-7822-4ce0-b63f-f221323c8a5d"
      },
      "execution_count": 27,
      "outputs": [
        {
          "output_type": "stream",
          "name": "stderr",
          "text": [
            "[nltk_data] Downloading package stopwords to /root/nltk_data...\n",
            "[nltk_data]   Package stopwords is already up-to-date!\n"
          ]
        },
        {
          "output_type": "execute_result",
          "data": {
            "text/plain": [
              "True"
            ]
          },
          "metadata": {},
          "execution_count": 27
        }
      ]
    },
    {
      "cell_type": "code",
      "source": [
        "lemmatizer = WordNetLemmatizer()"
      ],
      "metadata": {
        "id": "Y1_RBOzxfZvN"
      },
      "execution_count": 28,
      "outputs": []
    },
    {
      "cell_type": "code",
      "source": [
        "def clean_text(text):\n",
        "    # Remove non-alphanumeric characters\n",
        "    text = re.sub(r'[^a-zA-Z0-9\\s]', '', text)\n",
        "    # Tokenize text into individual words\n",
        "    tokens = word_tokenize(text.lower())\n",
        "    # Remove stop words from tokens\n",
        "    filtered_tokens = [word for word in tokens if word not in stop_words]\n",
        "    # Lemmatize filtered tokens\n",
        "    lemmatized_tokens = [lemmatizer.lemmatize(token) for token in filtered_tokens]\n",
        "    # Return cleaned text as a string\n",
        "    return ' '.join(lemmatized_tokens)"
      ],
      "metadata": {
        "id": "Rvhvo9npfeA4"
      },
      "execution_count": 30,
      "outputs": []
    },
    {
      "cell_type": "code",
      "source": [
        "from google.colab import drive\n",
        "drive.mount('/content/drive')"
      ],
      "metadata": {
        "colab": {
          "base_uri": "https://localhost:8080/"
        },
        "id": "cqi5D3m_Hnc3",
        "outputId": "e9d1aad0-e8ec-4f0a-888b-5e72aa8090b8"
      },
      "execution_count": 31,
      "outputs": [
        {
          "output_type": "stream",
          "name": "stdout",
          "text": [
            "Drive already mounted at /content/drive; to attempt to forcibly remount, call drive.mount(\"/content/drive\", force_remount=True).\n"
          ]
        }
      ]
    },
    {
      "cell_type": "markdown",
      "source": [
        "# New Section"
      ],
      "metadata": {
        "id": "cJMOuIE-H0E7"
      }
    },
    {
      "cell_type": "code",
      "source": [
        "job_postings['cleaned_text'] = job_postings['text'].apply(clean_text)"
      ],
      "metadata": {
        "id": "uLvxCdQrfk0R"
      },
      "execution_count": 32,
      "outputs": []
    },
    {
      "cell_type": "code",
      "source": [
        ">>> import nltk\n",
        ">>> nltk.download('punkt')\n",
        ">>> nltk.download('wordnet')"
      ],
      "metadata": {
        "id": "c_Mo_s5Cf2Ve",
        "colab": {
          "base_uri": "https://localhost:8080/"
        },
        "outputId": "5d9ac156-c7f1-43fa-ad1b-c1b27c8c6d62"
      },
      "execution_count": 33,
      "outputs": [
        {
          "output_type": "stream",
          "name": "stderr",
          "text": [
            "[nltk_data] Downloading package punkt to /root/nltk_data...\n",
            "[nltk_data]   Package punkt is already up-to-date!\n",
            "[nltk_data] Downloading package wordnet to /root/nltk_data...\n",
            "[nltk_data]   Package wordnet is already up-to-date!\n"
          ]
        },
        {
          "output_type": "execute_result",
          "data": {
            "text/plain": [
              "True"
            ]
          },
          "metadata": {},
          "execution_count": 33
        }
      ]
    },
    {
      "cell_type": "code",
      "source": [
        "inclusive_keywords = ['equal opportunity', 'diversity', 'inclusion', 'minority', 'gender', 'race', 'ethnicity']"
      ],
      "metadata": {
        "id": "nkMmVCiIJSTL"
      },
      "execution_count": 34,
      "outputs": []
    },
    {
      "cell_type": "code",
      "source": [
        "criteria = {'Gender': ['woman', 'man', 'non-binary', 'transgender', 'genderqueer'],\n",
        "            'Race/Ethnicity': ['Black', 'Hispanic/Latinx', 'Asian', 'White', 'Native American', 'Middle Eastern'],\n",
        "            'Age': ['young', 'old', 'experienced', 'fresh'],\n",
        "            'Disability': ['disabled', 'handicapped', 'wheelchair user', 'able-bodied'],\n",
        "            'LGBTQ+': ['lesbian', 'gay', 'bisexual', 'queer', 'trans', 'non-heterosexual', 'non-cisgender']}\n"
      ],
      "metadata": {
        "id": "Z25nL4h5NzFs"
      },
      "execution_count": 35,
      "outputs": []
    },
    {
      "cell_type": "code",
      "source": [
        "scoring = {'Gender': 4,\n",
        "           'Race/Ethnicity': 3,\n",
        "           'Age': 1,\n",
        "           'Disability': 1,\n",
        "           'LGBTQ+': 2}"
      ],
      "metadata": {
        "id": "yzT8y5gwRsbW"
      },
      "execution_count": 36,
      "outputs": []
    },
    {
      "cell_type": "code",
      "source": [
        "def get_inclusive_score(description):\n",
        "    # Clean the job description text\n",
        "    cleaned_text = clean_text(description)\n",
        "    # Split cleaned text into individual words\n",
        "    words = cleaned_text.split()\n",
        "    # Calculate total number of words in job posting\n",
        "    total_words = len(words)\n",
        "    # Calculate number of occurrences of each inclusive keyword\n",
        "    keyword_counts = [words.count(keyword.lower()) for keyword in inclusive_keywords]\n",
        "    # Calculate total number of inclusive keywords\n",
        "    total_keywords = sum(keyword_counts)\n",
        "    # Calculate inclusive score as a percentage of total words\n",
        "    inclusive_score = total_keywords / total_words * 100\n",
        "    # Return the inclusive score\n",
        "    return inclusive_score"
      ],
      "metadata": {
        "id": "07wJbz68SIvb"
      },
      "execution_count": 44,
      "outputs": []
    },
    {
      "cell_type": "code",
      "source": [
        "inclusive_threshold = 1.0\n",
        "\n",
        "# Filter job postings based on inclusive score threshold\n",
        "inclusive_job_postings = job_postings[job_postings['inclusive_score'] >= inclusive_threshold]"
      ],
      "metadata": {
        "id": "jkM_UJWhSI6y"
      },
      "execution_count": 45,
      "outputs": []
    },
    {
      "cell_type": "code",
      "source": [
        "for i in range(len(job_postings)):\n",
        "    # Get inclusive score for current job posting\n",
        "    inclusive_score = get_inclusive_score(job_postings.loc[i, 'text'])\n",
        "    # Append inclusive score to list\n",
        "    inclusive_scores.append(inclusive_score)"
      ],
      "metadata": {
        "id": "w54qwMvE9tHC"
      },
      "execution_count": 47,
      "outputs": []
    },
    {
      "cell_type": "code",
      "source": [
        "inclusive_job_postings = job_postings[job_postings['inclusive_score'] >= inclusive_threshold]\n"
      ],
      "metadata": {
        "id": "M5nj1wKR-DdN"
      },
      "execution_count": 49,
      "outputs": []
    },
    {
      "cell_type": "code",
      "source": [
        "job_description = input(\"Enter job description: \")\n",
        "inclusive_score = get_inclusive_score(job_description)\n",
        "\n",
        "print(\"Inclusive score for job description: {:.2f}\".format(inclusive_score)) \n",
        "if inclusive_score < 4:\n",
        "    print(\"Suggestion: Consider adding more diversity words.\")\n",
        "elif inclusive_score >= 4 and inclusive_score < 10:\n",
        "    print(\"Suggestion: Consider adding words that promote inclusion based on sexual orientation.\")\n",
        "else:\n",
        "    print(\"Great and well written description\")"
      ],
      "metadata": {
        "colab": {
          "base_uri": "https://localhost:8080/"
        },
        "id": "nn6nVHx41ZPR",
        "outputId": "1e29d57f-5c26-4a43-b056-ff90072b3471"
      },
      "execution_count": 52,
      "outputs": [
        {
          "output_type": "stream",
          "name": "stdout",
          "text": [
            "Enter job description: This is to check on diversity, you must be ready to check how inclusion is part of our statement, and a very important part of our development\n",
            "Inclusive score for job description: 18.18\n",
            "Great and well written description\n"
          ]
        }
      ]
    },
    {
      "cell_type": "code",
      "source": [],
      "metadata": {
        "id": "lIw77SqqA4c_"
      },
      "execution_count": null,
      "outputs": []
    }
  ]
}